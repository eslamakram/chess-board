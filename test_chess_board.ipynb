{
 "cells": [
  {
   "cell_type": "code",
   "execution_count": null,
   "id": "8017e67c-1846-4fad-b0c3-19da78b663b0",
   "metadata": {},
   "outputs": [],
   "source": [
    "import numpy as np\n",
    "\n",
    "def run_tests():\n",
    "\n",
    "  # test 1\n",
    "  some_arr = np.array([1,2,3,4])\n",
    "  new_arr = some_arr[:]\n",
    "  assert some_arr is not new_arr\n",
    "  some_arr[0] = 999\n",
    "  assert new_arr[0] != 1\n",
    "\n",
    "\n",
    "  # test 2\n",
    "  some = np.array([1,2,3,4])\n",
    "  other = some.view()\n",
    "  some[0] = 999\n",
    "  assert other[0] == 999\n",
    "\n",
    "\n",
    "  # test 3\n",
    "  some = np.array([1,2,3,4])\n",
    "  other = some.copy()\n",
    "  some[0] = 999\n",
    "  assert other[0] == 1\n",
    "  \n",
    "  print('........ SUCCESS .........')\n",
    "    "
   ]
  },
  {
   "cell_type": "code",
   "execution_count": null,
   "id": "0190f59d-95f6-4db3-b83c-6b6966791817",
   "metadata": {},
   "outputs": [],
   "source": [
    "run_tests()"
   ]
  },
  {
   "cell_type": "code",
   "execution_count": null,
   "id": "f9bbf883-9f24-44a8-97e5-29d728061c2d",
   "metadata": {},
   "outputs": [],
   "source": []
  },
  {
   "cell_type": "code",
   "execution_count": null,
   "id": "a48b749f-557d-41ae-825a-c2c7b402a5c5",
   "metadata": {},
   "outputs": [],
   "source": []
  }
 ],
 "metadata": {
  "kernelspec": {
   "display_name": "Python 3 (ipykernel)",
   "language": "python",
   "name": "python3"
  },
  "language_info": {
   "codemirror_mode": {
    "name": "ipython",
    "version": 3
   },
   "file_extension": ".py",
   "mimetype": "text/x-python",
   "name": "python",
   "nbconvert_exporter": "python",
   "pygments_lexer": "ipython3",
   "version": "3.9.5"
  }
 },
 "nbformat": 4,
 "nbformat_minor": 5
}
