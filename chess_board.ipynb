{
 "cells": [
  {
   "cell_type": "markdown",
   "metadata": {
    "tags": []
   },
   "source": [
    "# jupyter"
   ]
  },
  {
   "cell_type": "code",
   "execution_count": null,
   "metadata": {},
   "outputs": [],
   "source": [
    "import numpy as np\n",
    "\n",
    "%matplotlib inline\n",
    "import matplotlib.pyplot as plt\n",
    "\n"
   ]
  },
  {
   "cell_type": "code",
   "execution_count": null,
   "metadata": {},
   "outputs": [],
   "source": [
    "class ChessBoard:\n",
    "    \n",
    "    def __init__(self):\n",
    "        self.board = np.ones([8,8,3])\n",
    "        for i in np.ndindex(8,8):\n",
    "            row = i[0]\n",
    "            col = i[1]\n",
    "            # if row%2==0 and col%2==1 or row%2==1 and col%2==0:\n",
    "            if row%2 != col%2:\n",
    "                self.board[row, col] = [0,0,0]\n",
    "            print(i, self.board[i])\n",
    "    \n",
    "    def add_red(self, row, col):\n",
    "        self.board[row, col] = [1,.2,0]\n",
    "    \n",
    "    def add_blue(self, row, col):\n",
    "         self.board[row, col] = [0,1,1]\n",
    "    \n",
    "    def render(self):\n",
    "        plt.imshow(self.board)\n",
    "        \n",
    "    def is_under_attack(self,ax,ay,bx,by):\n",
    "        dim_x = abs(ax - bx)\n",
    "        dim_y = abs(ay - by)\n",
    "        if dim_x==dim_y or ax==bx or ay==by :\n",
    "           return True\n",
    "        else:\n",
    "           return False\n",
    "    \n",
    "        "
   ]
  },
  {
   "cell_type": "code",
   "execution_count": null,
   "metadata": {},
   "outputs": [],
   "source": [
    "chess_board = ChessBoard()\n",
    "# chess_board.board"
   ]
  },
  {
   "cell_type": "code",
   "execution_count": null,
   "metadata": {},
   "outputs": [],
   "source": [
    "board = ChessBoard()\n",
    "board.add_red(6,4)\n",
    "board.add_blue(5,3)\n",
    "board.render()"
   ]
  },
  {
   "cell_type": "code",
   "execution_count": null,
   "metadata": {},
   "outputs": [],
   "source": [
    "assert board.is_under_attack(0,0,1,1) == True\n",
    "assert board.is_under_attack(0,0,1,2) == False\n",
    "assert board.is_under_attack(3,0,2,1) == True\n",
    "assert board.is_under_attack(1,1,0,0) == True\n",
    "assert board.is_under_attack(1,2,0,0) == False\n",
    "assert board.is_under_attack(2,1,3,0) == True\n",
    "assert board.is_under_attack(2,1,2,0) == True\n",
    "assert board.is_under_attack(1,3,1,3) == True\n",
    "print('........ ALL TESTS PASSED ........')"
   ]
  },
  {
   "cell_type": "code",
   "execution_count": null,
   "metadata": {},
   "outputs": [],
   "source": []
  }
 ],
 "metadata": {
  "interpreter": {
   "hash": "67448ec2d428ed3bea8783b7b26b3ff35485eccc6c91da9437aefaa5673ef859"
  },
  "kernelspec": {
   "display_name": "Python 3 (ipykernel)",
   "language": "python",
   "name": "python3"
  },
  "language_info": {
   "codemirror_mode": {
    "name": "ipython",
    "version": 3
   },
   "file_extension": ".py",
   "mimetype": "text/x-python",
   "name": "python",
   "nbconvert_exporter": "python",
   "pygments_lexer": "ipython3",
   "version": "3.9.5"
  }
 },
 "nbformat": 4,
 "nbformat_minor": 4
}
